{
 "cells": [
  {
   "cell_type": "code",
   "execution_count": 1,
   "id": "bf1c66d8",
   "metadata": {},
   "outputs": [],
   "source": [
    "import json\n",
    "\n",
    "json_path = './data/concepts_sorted.json'\n",
    "with open(json_path, 'r', encoding='utf-8') as j :\n",
    "    concepts = json.load(j)\n",
    "\n",
    "max_length_concept_name = 0\n",
    "max_length_description = 0\n",
    "max_length_chapter_name = 0\n",
    "max_length_achievement_name = 0\n",
    "\n",
    "for concept in concepts :\n",
    "    max_length_concept_name = max(max_length_concept_name, len(concept['name']))\n",
    "    max_length_description = max(max_length_description, len(concept['description']))\n",
    "    max_length_chapter_name = max(max_length_chapter_name, len(concept['chapter']['name']))\n",
    "    max_length_achievement_name = max(max_length_achievement_name, len(concept['achievement']['name']))"
   ]
  },
  {
   "cell_type": "code",
   "execution_count": 6,
   "id": "14112337",
   "metadata": {},
   "outputs": [
    {
     "name": "stdout",
     "output_type": "stream",
     "text": [
      "64\n",
      "921\n",
      "56\n",
      "115\n"
     ]
    }
   ],
   "source": [
    "print(max_length_concept_name)\n",
    "print(max_length_description)\n",
    "print(max_length_chapter_name)\n",
    "print(max_length_achievement_name)"
   ]
  },
  {
   "cell_type": "code",
   "execution_count": null,
   "id": "48f822a8",
   "metadata": {},
   "outputs": [],
   "source": []
  }
 ],
 "metadata": {
  "kernelspec": {
   "display_name": "Python 3 (ipykernel)",
   "language": "python",
   "name": "python3"
  },
  "language_info": {
   "codemirror_mode": {
    "name": "ipython",
    "version": 3
   },
   "file_extension": ".py",
   "mimetype": "text/x-python",
   "name": "python",
   "nbconvert_exporter": "python",
   "pygments_lexer": "ipython3",
   "version": "3.11.5"
  }
 },
 "nbformat": 4,
 "nbformat_minor": 5
}
