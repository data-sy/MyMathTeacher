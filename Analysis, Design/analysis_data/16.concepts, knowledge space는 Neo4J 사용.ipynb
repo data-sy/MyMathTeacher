{
 "cells": [
  {
   "cell_type": "markdown",
   "id": "2f54962c",
   "metadata": {},
   "source": [
    "### concept 테이블\n",
    "- concepts_sorted 자료로 시작\n",
    "  - 컬럼 세분화\n",
    "  - skill_id 추가\n",
    "- csv 파일로 만들기"
   ]
  },
  {
   "cell_type": "code",
   "execution_count": 4,
   "id": "71e0ef07",
   "metadata": {},
   "outputs": [],
   "source": [
    "import json"
   ]
  },
  {
   "cell_type": "code",
   "execution_count": 7,
   "id": "a0a24ed6",
   "metadata": {},
   "outputs": [],
   "source": [
    "# skill_id\n",
    "txt_path = './data/knowledgeTag_skillID.txt'\n",
    "skill_dic = {}\n",
    "with open(txt_path, \"r\") as file:\n",
    "    lines = file.readlines()\n",
    "    for line in lines:\n",
    "        data = line.strip().split('\\t')\n",
    "        skill_dic[int(data[0])] = int(data[1])"
   ]
  },
  {
   "cell_type": "code",
   "execution_count": 20,
   "id": "39d5cb81",
   "metadata": {},
   "outputs": [],
   "source": [
    "# concept\n",
    "json_path = './data/concepts_sorted.json'\n",
    "with open(json_path, 'r', encoding='utf-8') as j :\n",
    "    concepts = json.load(j)"
   ]
  },
  {
   "cell_type": "code",
   "execution_count": 21,
   "id": "4e9fefce",
   "metadata": {
    "scrolled": false
   },
   "outputs": [
    {
     "data": {
      "text/plain": [
       "{'id': 5814,\n",
       " 'name': '1부터 5까지의 수',\n",
       " 'semester': '초등-초1-1학기',\n",
       " 'description': '1부터 5까지의 수를 읽고 셀 수 있다.',\n",
       " 'chapter': {'id': '1', 'name': '9까지의 수 > 몇일까요 (1)'},\n",
       " 'achievement': {'id': '1', 'name': '50까지의수 개념을이해 하고, 수를 세고 읽고 쓸 수 있다.'}}"
      ]
     },
     "execution_count": 21,
     "metadata": {},
     "output_type": "execute_result"
    }
   ],
   "source": [
    "concepts[0]"
   ]
  },
  {
   "cell_type": "code",
   "execution_count": 41,
   "id": "f1b0bb10",
   "metadata": {},
   "outputs": [
    {
     "name": "stdout",
     "output_type": "stream",
     "text": [
      "2\n"
     ]
    }
   ],
   "source": [
    "# > 로 쪼갰을 때 나오는 개수 : 2 또는 3\n",
    "i = 4\n",
    "for test in concepts:\n",
    "    temp2 = test['chapter']['name'].split('>')\n",
    "    if (i>len(temp2)): # < 로 바꾸면 len의 최댓값 나옴 : 3\n",
    "        i = len(temp2)\n",
    "print(i)"
   ]
  },
  {
   "cell_type": "code",
   "execution_count": 5,
   "id": "b7fcad72",
   "metadata": {},
   "outputs": [
    {
     "name": "stdout",
     "output_type": "stream",
     "text": [
      "데이터가 ./data/concepts_ele_lower.csv 파일로 성공적으로 추출되었습니다.\n",
      "데이터가 ./data/concepts_ele_senior.csv 파일로 성공적으로 추출되었습니다.\n",
      "데이터가 ./data/concepts_mid_1.csv 파일로 성공적으로 추출되었습니다.\n",
      "데이터가 ./data/concepts_mid_2.csv 파일로 성공적으로 추출되었습니다.\n",
      "데이터가 ./data/concepts_mid_3.csv 파일로 성공적으로 추출되었습니다.\n",
      "데이터가 ./data/concepts_high_1.csv 파일로 성공적으로 추출되었습니다.\n",
      "데이터가 ./data/concepts_high_2.csv 파일로 성공적으로 추출되었습니다.\n",
      "데이터가 ./data/concepts_high_3.csv 파일로 성공적으로 추출되었습니다.\n"
     ]
    }
   ],
   "source": [
    "# 최종\n",
    "\n",
    "import json\n",
    "import csv\n",
    "\n",
    "# concept\n",
    "json_path = './data/concepts_sorted.json'\n",
    "with open(json_path, 'r', encoding='utf-8') as j :\n",
    "    concepts = json.load(j)\n",
    "    \n",
    "# skill_id\n",
    "txt_path = './data/knowledgeTag_skillID.txt'\n",
    "skill_dic = {}\n",
    "with open(txt_path, \"r\") as file:\n",
    "    lines = file.readlines()\n",
    "    for line in lines:\n",
    "        data = line.strip().split('\\t')\n",
    "        skill_dic[int(data[0])] = int(data[1])\n",
    "\n",
    "concepts_ele_lower = []\n",
    "concepts_ele_senior = []\n",
    "concepts_mid_1 = []\n",
    "concepts_mid_2 = []\n",
    "concepts_mid_3 = []\n",
    "concepts_high_1 = []\n",
    "concepts_high_2 = []\n",
    "concepts_high_3 = []\n",
    "\n",
    "for concept in concepts:\n",
    "    temp = concept['semester'].split('-')\n",
    "    grade_level = temp[1]\n",
    "    concept['school_level'] = temp[0]\n",
    "    concept['grade_level'] = grade_level\n",
    "    concept['semester'] = temp[2]\n",
    "#     if grade_level in ['초1', '초2', '초3']:\n",
    "#         concept['label'] = 'ele_lower'\n",
    "#     elif grade_level in ['초4', '초5', '초6']:\n",
    "#         concept['label'] = 'ele_senior'\n",
    "#     elif grade_level in ['중1']:\n",
    "#         concept['label'] = 'mid_1'\n",
    "#     elif grade_level in ['중2']:\n",
    "#         concept['label'] = 'mid_2'\n",
    "#     elif grade_level in ['중3']:\n",
    "#         concept['label'] = 'mid_3'\n",
    "#     elif grade_level in ['수학']:\n",
    "#         concept['label'] = 'high_1'\n",
    "#     elif grade_level in ['수1', '수2']:\n",
    "#         concept['label'] = 'high_2'\n",
    "#     else:\n",
    "#         concept['label'] = 'high_3'\n",
    "    concept['chapter_id'] = concept['chapter']['id']   \n",
    "    temp2 = concept['chapter']['name'].split('>')\n",
    "    concept['chapter_name_1']=temp2[0]\n",
    "    concept['chapter_name_2']=temp2[1]\n",
    "    if len(temp2)==3:\n",
    "        concept['chapter_name_3']=temp2[2]\n",
    "    else:\n",
    "        concept['chapter_name_3']=\"\"        \n",
    "    concept['achievement_id'] = concept['achievement']['id']\n",
    "    concept['achievement_name'] = concept['achievement']['name']\n",
    "    del concept['chapter']\n",
    "    del concept['achievement']\n",
    "    concept['skill_id'] = skill_dic[concept['id']]\n",
    "    if grade_level in ['초1', '초2', '초3']:\n",
    "        concepts_ele_lower.append(concept)\n",
    "    elif grade_level in ['초4', '초5', '초6']:\n",
    "        concepts_ele_senior.append(concept)\n",
    "    elif grade_level in ['중1']:\n",
    "        concepts_mid_1.append(concept)\n",
    "    elif grade_level in ['중2']:\n",
    "        concepts_mid_2.append(concept)\n",
    "    elif grade_level in ['중3']:\n",
    "        concepts_mid_3.append(concept)\n",
    "    elif grade_level in ['수학']:\n",
    "        concepts_high_1.append(concept)\n",
    "    elif grade_level in ['수1', '수2']:\n",
    "        concepts_high_2.append(concept)\n",
    "    else:\n",
    "        concepts_high_3.append(concept)\n",
    "\n",
    "concepts_data = {'concepts_ele_lower': concepts_ele_lower, 'concepts_ele_senior': concepts_ele_senior,\n",
    "                 'concepts_mid_1': concepts_mid_1, 'concepts_mid_2' : concepts_mid_2,\n",
    "                 'concepts_mid_3' : concepts_mid_3, 'concepts_high_1' : concepts_high_1, \n",
    "                 'concepts_high_2' : concepts_high_2, 'concepts_high_3' : concepts_high_3 }\n",
    "\n",
    "for key, value in concepts_data.items() :\n",
    "    # CSV 파일로 데이터 쓰기\n",
    "    csv_file_path = \"./data/\"+key+\".csv\"\n",
    "\n",
    "    with open(csv_file_path, mode='w', newline='', encoding='utf-8') as file:\n",
    "        writer = csv.DictWriter(file, fieldnames=value[0].keys())\n",
    "        # 헤더 쓰기\n",
    "        writer.writeheader()\n",
    "        # 데이터 쓰기\n",
    "        writer.writerows(value)\n",
    "\n",
    "    print(f\"데이터가 {csv_file_path} 파일로 성공적으로 추출되었습니다.\")"
   ]
  },
  {
   "cell_type": "markdown",
   "id": "9a710faa",
   "metadata": {},
   "source": [
    "### knowledge space 테이블\n",
    "- csv 파일로 만들기"
   ]
  },
  {
   "cell_type": "code",
   "execution_count": 53,
   "id": "37e97878",
   "metadata": {},
   "outputs": [
    {
     "name": "stdout",
     "output_type": "stream",
     "text": [
      "데이터가 ./data/knowledge_space.csv 파일로 성공적으로 추출되었습니다.\n"
     ]
    }
   ],
   "source": [
    "import json\n",
    "import csv\n",
    "\n",
    "# \n",
    "json_path = './data/knowledge_tags.json'\n",
    "with open(json_path, 'r', encoding='utf-8') as j :\n",
    "    knowledge_space = json.load(j)\n",
    "\n",
    "data = []\n",
    "for knowledge_space_id in knowledge_space :\n",
    "    dic = {}\n",
    "    dic['id'] = knowledge_space_id\n",
    "    dic['from_concept_id'] = knowledge_space[knowledge_space_id]['fromConcept']['id']\n",
    "    dic['to_concept_id'] = knowledge_space[knowledge_space_id]['toConcept']['id']\n",
    "    data.append(dic)\n",
    "    \n",
    "# CSV 파일로 데이터 쓰기\n",
    "csv_file_path = \"./data/knowledge_space.csv\"\n",
    "\n",
    "with open(csv_file_path, mode='w', newline='', encoding='utf-8') as file:\n",
    "    writer = csv.DictWriter(file, fieldnames=data[0].keys())\n",
    "    \n",
    "    # 헤더 쓰기\n",
    "    writer.writeheader()\n",
    "\n",
    "    # 데이터 쓰기\n",
    "    writer.writerows(data)\n",
    "\n",
    "print(f\"데이터가 {csv_file_path} 파일로 성공적으로 추출되었습니다.\")"
   ]
  },
  {
   "cell_type": "code",
   "execution_count": null,
   "id": "d9324273",
   "metadata": {},
   "outputs": [],
   "source": []
  }
 ],
 "metadata": {
  "kernelspec": {
   "display_name": "Python 3 (ipykernel)",
   "language": "python",
   "name": "python3"
  },
  "language_info": {
   "codemirror_mode": {
    "name": "ipython",
    "version": 3
   },
   "file_extension": ".py",
   "mimetype": "text/x-python",
   "name": "python",
   "nbconvert_exporter": "python",
   "pygments_lexer": "ipython3",
   "version": "3.11.5"
  }
 },
 "nbformat": 4,
 "nbformat_minor": 5
}
