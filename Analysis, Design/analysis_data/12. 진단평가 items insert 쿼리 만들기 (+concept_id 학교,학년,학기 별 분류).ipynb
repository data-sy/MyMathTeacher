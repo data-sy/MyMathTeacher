{
 "cells": [
  {
   "cell_type": "code",
   "execution_count": 1,
   "id": "1218214a",
   "metadata": {},
   "outputs": [],
   "source": [
    "import numpy as np\n",
    "import pandas as pd"
   ]
  },
  {
   "cell_type": "code",
   "execution_count": 2,
   "id": "b95f4017",
   "metadata": {},
   "outputs": [],
   "source": [
    "import json\n",
    "\n",
    "json_path = './data/concepts_sorted.json'\n",
    "\n",
    "with open(json_path, 'r', encoding='utf-8') as j :\n",
    "    concepts = json.load(j)"
   ]
  },
  {
   "cell_type": "code",
   "execution_count": 3,
   "id": "28c5cf60",
   "metadata": {},
   "outputs": [],
   "source": [
    "for concept in concepts :\n",
    "    temp = concept['semester'].split('-')\n",
    "    concept['school_level'] = temp[0]\n",
    "    concept['grade_level'] = temp[1]\n",
    "    concept['semester'] = temp[2]"
   ]
  },
  {
   "cell_type": "code",
   "execution_count": 4,
   "id": "7fbb31cd",
   "metadata": {},
   "outputs": [],
   "source": [
    "df = pd.json_normalize(concepts)"
   ]
  },
  {
   "cell_type": "code",
   "execution_count": 5,
   "id": "10a715ff",
   "metadata": {},
   "outputs": [],
   "source": [
    "# 학교급으로 나누기\n",
    "df_elem = df[df[\"school_level\"]==\"초등\"]\n",
    "df_middle = df[df[\"school_level\"]==\"중등\"]\n",
    "df_high = df[df[\"school_level\"]==\"고등\"]"
   ]
  },
  {
   "cell_type": "code",
   "execution_count": 6,
   "id": "0307b625",
   "metadata": {},
   "outputs": [],
   "source": [
    "# 학년급으로 나누기\n",
    "df_elem_1 = df_elem[df_elem[\"grade_level\"]==\"초1\"]\n",
    "df_elem_2 = df_elem[df_elem[\"grade_level\"]==\"초2\"]\n",
    "df_elem_3 = df_elem[df_elem[\"grade_level\"]==\"초3\"]\n",
    "df_elem_4 = df_elem[df_elem[\"grade_level\"]==\"초4\"]\n",
    "df_elem_5 = df_elem[df_elem[\"grade_level\"]==\"초5\"]\n",
    "df_elem_6 = df_elem[df_elem[\"grade_level\"]==\"초6\"]\n",
    "df_middle_1 = df_middle[df_middle[\"grade_level\"]==\"중1\"]\n",
    "df_middle_2 = df_middle[df_middle[\"grade_level\"]==\"중2\"]\n",
    "df_middle_3 = df_middle[df_middle[\"grade_level\"]==\"중3\"]\n",
    "df_high_1 = df_high[df_high[\"grade_level\"]==\"수학\"]\n",
    "df_high_2 = df_high[df_high[\"grade_level\"]==\"수1\"]\n",
    "df_high_3 = df_high[df_high[\"grade_level\"]==\"수2\"]\n",
    "df_high_4 = df_high[df_high[\"grade_level\"]==\"미적\"]\n",
    "df_high_5 = df_high[df_high[\"grade_level\"]==\"기하\"]\n",
    "df_high_6 = df_high[df_high[\"grade_level\"]==\"확통\"]"
   ]
  },
  {
   "cell_type": "code",
   "execution_count": 7,
   "id": "851a6e06",
   "metadata": {},
   "outputs": [],
   "source": [
    "# 학기급으로 나누기\n",
    "df_elem_1_1 = df_elem_1[df_elem_1[\"semester\"]==\"1학기\"]\n",
    "df_elem_1_2 = df_elem_1[df_elem_1[\"semester\"]==\"2학기\"]\n",
    "df_elem_2_1 = df_elem_2[df_elem_2[\"semester\"]==\"1학기\"]\n",
    "df_elem_2_2 = df_elem_2[df_elem_2[\"semester\"]==\"2학기\"]\n",
    "df_elem_3_1 = df_elem_3[df_elem_3[\"semester\"]==\"1학기\"]\n",
    "df_elem_3_2 = df_elem_3[df_elem_3[\"semester\"]==\"2학기\"]\n",
    "df_elem_4_1 = df_elem_4[df_elem_4[\"semester\"]==\"1학기\"]\n",
    "df_elem_4_2 = df_elem_4[df_elem_4[\"semester\"]==\"2학기\"]\n",
    "df_elem_5_1 = df_elem_5[df_elem_5[\"semester\"]==\"1학기\"]\n",
    "df_elem_5_2 = df_elem_5[df_elem_5[\"semester\"]==\"2학기\"]\n",
    "df_elem_6_1 = df_elem_6[df_elem_6[\"semester\"]==\"1학기\"]\n",
    "df_elem_6_2 = df_elem_6[df_elem_6[\"semester\"]==\"2학기\"]\n",
    "df_middle_1_1 = df_middle_1[df_middle_1[\"semester\"]==\"1학기\"]\n",
    "df_middle_1_2 = df_middle_1[df_middle_1[\"semester\"]==\"2학기\"]\n",
    "df_middle_2_1 = df_middle_2[df_middle_2[\"semester\"]==\"1학기\"]\n",
    "df_middle_2_2 = df_middle_2[df_middle_2[\"semester\"]==\"2학기\"]\n",
    "df_middle_3_1 = df_middle_3[df_middle_3[\"semester\"]==\"1학기\"]\n",
    "df_middle_3_2 = df_middle_3[df_middle_3[\"semester\"]==\"2학기\"]\n",
    "df_high_1_1 = df_high_1[df_high_1[\"semester\"]==\"상\"]\n",
    "df_high_1_2 = df_high_1[df_high_1[\"semester\"]==\"하\"]"
   ]
  },
  {
   "cell_type": "code",
   "execution_count": 8,
   "id": "ba08c799",
   "metadata": {},
   "outputs": [],
   "source": [
    "# 각각 concept_id 모으기\n",
    "elem_id_arr = df_elem['id'].tolist() # 초등 전체\n",
    "middle_1_id_arr = df_middle_1['id'].tolist() # 중1\n",
    "middle_2_id_arr = df_middle_2['id'].tolist() # 중2\n",
    "middle_3_id_arr = df_middle_3['id'].tolist() # 중3\n",
    "middle_id_arr = df_middle['id'].tolist() # 중등 전체\n",
    "high_1_id_arr = df_high_1['id'].tolist() # 고등 수학 상/하\n",
    "high_2_id_arr = df_high_2['id'].tolist() # 고등 수1\n",
    "high_3_id_arr = df_high_3['id'].tolist() # 고등 수2\n",
    "high_4_id_arr = high_1_id_arr + high_2_id_arr + high_3_id_arr\n",
    "high_5_id_arr = df_high_4['id'].tolist() # 고등 미적\n",
    "high_6_id_arr = df_high_5['id'].tolist() # 고등 기하\n",
    "high_7_id_arr = df_high_6['id'].tolist() # 고등 확통\n",
    "\n",
    "id_arr = [elem_id_arr, middle_1_id_arr, middle_2_id_arr, middle_3_id_arr, middle_id_arr,\n",
    "         high_1_id_arr, high_2_id_arr, high_3_id_arr, high_4_id_arr, high_5_id_arr, high_6_id_arr, high_7_id_arr]"
   ]
  },
  {
   "cell_type": "code",
   "execution_count": 9,
   "id": "e2e7c93f",
   "metadata": {},
   "outputs": [],
   "source": [
    "import random\n",
    "\n",
    "file_path = \"./data/insert_diag_items.sql\"\n",
    "\n",
    "with open(file_path, \"w\", encoding='utf-8') as file:\n",
    "    for i, arr in enumerate(id_arr) :\n",
    "        for j, concept_id in enumerate(random.sample(arr, 20)) :\n",
    "            rand_num = random.randint(1, 5)\n",
    "            image_path = f\"/images/items/진단평가{i+1}_{j+1}번\"\n",
    "            sql = f\"INSERT INTO items(item_answer, item_image_path, concept_id) values ('{rand_num}', '{image_path}', {concept_id});\"\n",
    "            file.write(sql + \"\\n\")"
   ]
  },
  {
   "cell_type": "code",
   "execution_count": null,
   "id": "cad12f69",
   "metadata": {},
   "outputs": [],
   "source": []
  }
 ],
 "metadata": {
  "kernelspec": {
   "display_name": "Python 3 (ipykernel)",
   "language": "python",
   "name": "python3"
  },
  "language_info": {
   "codemirror_mode": {
    "name": "ipython",
    "version": 3
   },
   "file_extension": ".py",
   "mimetype": "text/x-python",
   "name": "python",
   "nbconvert_exporter": "python",
   "pygments_lexer": "ipython3",
   "version": "3.7.16"
  }
 },
 "nbformat": 4,
 "nbformat_minor": 5
}
