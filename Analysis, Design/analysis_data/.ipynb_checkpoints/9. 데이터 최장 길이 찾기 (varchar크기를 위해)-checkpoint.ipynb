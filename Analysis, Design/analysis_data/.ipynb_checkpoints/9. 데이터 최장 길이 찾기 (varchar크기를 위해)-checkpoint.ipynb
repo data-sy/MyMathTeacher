{
 "cells": [
  {
   "cell_type": "code",
   "execution_count": null,
   "id": "6f18033d",
   "metadata": {},
   "outputs": [],
   "source": [
    "import json\n",
    "\n",
    "json_path = './data/concepts_sorted.json'\n",
    "with open(json_path, 'r', encoding='utf-8') as j :\n",
    "    concepts = json.load(j)\n",
    "\n",
    "max_length_concept_name = 0\n",
    "max_length_description = 0\n",
    "max_length_chapter_name = 0\n",
    "max_length_achievement_name = 0\n",
    "\n",
    "for concept in concepts :\n",
    "    concept_name = concept['name']\n",
    "    description = concept['description']\n",
    "    chapter_name = concept['chapter']['name']\n",
    "    achievement_name = concept['achievement']['name']\n",
    "    max_length_concept_name = max(max_length_concept_name, len(concept['name']))\n",
    "    \n",
    "    "
   ]
  },
  {
   "cell_type": "code",
   "execution_count": null,
   "id": "17f04afa",
   "metadata": {},
   "outputs": [],
   "source": [
    "max_length = 0\n",
    "for item in data[\"data\"]:\n",
    "    if isinstance(item[\"message\"], str):\n",
    "        max_length = max(max_length, len(item[\"message\"]))"
   ]
  },
  {
   "cell_type": "code",
   "execution_count": null,
   "id": "34571ac8",
   "metadata": {},
   "outputs": [],
   "source": []
  },
  {
   "cell_type": "code",
   "execution_count": null,
   "id": "73bd3bd5",
   "metadata": {},
   "outputs": [],
   "source": []
  }
 ],
 "metadata": {
  "kernelspec": {
   "display_name": "Python 3 (ipykernel)",
   "language": "python",
   "name": "python3"
  },
  "language_info": {
   "codemirror_mode": {
    "name": "ipython",
    "version": 3
   },
   "file_extension": ".py",
   "mimetype": "text/x-python",
   "name": "python",
   "nbconvert_exporter": "python",
   "pygments_lexer": "ipython3",
   "version": "3.7.16"
  }
 },
 "nbformat": 4,
 "nbformat_minor": 5
}
