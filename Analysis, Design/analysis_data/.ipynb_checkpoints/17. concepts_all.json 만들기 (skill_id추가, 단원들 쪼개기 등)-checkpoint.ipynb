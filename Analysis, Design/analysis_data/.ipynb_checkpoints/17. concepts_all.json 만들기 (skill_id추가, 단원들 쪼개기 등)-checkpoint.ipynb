{
 "cells": [
  {
   "cell_type": "code",
   "execution_count": 1,
   "id": "bf4dde4c",
   "metadata": {},
   "outputs": [],
   "source": [
    "import json\n",
    "\n",
    "# concepts_sorted 파일\n",
    "json_path = './data/concepts_sorted.json'\n",
    "with open(json_path, 'r', encoding='utf-8') as j :\n",
    "    concepts = json.load(j)\n",
    "\n",
    "# skill_id 파일\n",
    "txt_path = './data/knowledgeTag_skillID.txt'\n",
    "skill_dic = {}\n",
    "with open(txt_path, \"r\") as file:\n",
    "    lines = file.readlines()\n",
    "    for line in lines:\n",
    "        data = line.strip().split('\\t')\n",
    "        # key : value = concept_id : skill_id\n",
    "        skill_dic[int(data[0])] = int(data[1])\n",
    "\n",
    "# concepts에서 쪼개서 데이터 만들기\n",
    "\n",
    "for concept in concepts :\n",
    "    # semester 한 번 이름 변경 후 사용하기 (순서 맞추기용)\n",
    "    concept['new_key'] = concept.pop('semester')\n",
    "    temp = concept['new_key'].split('-')\n",
    "    concept['school_level'] = temp[0]\n",
    "    concept['grade_level'] = temp[1]\n",
    "    concept['semester'] = temp[2]\n",
    "    del concept['new_key']\n",
    "\n",
    "    concept['chapter_id'] = concept['chapter']['id']\n",
    "    temp2 = concept['chapter']['name'].split('>')\n",
    "    concept['chapter_main']=temp2[0]\n",
    "    concept['chapter_sub']=temp2[1]\n",
    "    if len(temp2)==3:\n",
    "        concept['chapter_subsub']=temp2[2]\n",
    "    else:\n",
    "        concept['chapter_subsub']=\"\"\n",
    "    concept['achievement_id'] = concept['achievement']['id']\n",
    "    concept['achievement_name'] = concept['achievement']['name']\n",
    "    del concept['chapter']\n",
    "    del concept['achievement']\n",
    "    concept['skill_id'] = skill_dic[concept['id']]\n",
    "\n",
    "# json으로 저장\n",
    "with open('./data/concepts_all.json', 'w', encoding='utf-8') as f:\n",
    "    json.dump(concepts, f, ensure_ascii=False)"
   ]
  },
  {
   "cell_type": "code",
   "execution_count": 2,
   "id": "edcbc79a",
   "metadata": {},
   "outputs": [
    {
     "data": {
      "text/plain": [
       "{'id': 5814,\n",
       " 'name': '1부터 5까지의 수',\n",
       " 'description': '1부터 5까지의 수를 읽고 셀 수 있다.',\n",
       " 'school_level': '초등',\n",
       " 'grade_level': '초1',\n",
       " 'semester': '1학기',\n",
       " 'chapter_id': '1',\n",
       " 'chapter_main': '9까지의 수 ',\n",
       " 'chapter_sub': ' 몇일까요 (1)',\n",
       " 'chapter_subsub': '',\n",
       " 'achievement_id': '1',\n",
       " 'achievement_name': '50까지의수 개념을이해 하고, 수를 세고 읽고 쓸 수 있다.',\n",
       " 'skill_id': 8}"
      ]
     },
     "execution_count": 2,
     "metadata": {},
     "output_type": "execute_result"
    }
   ],
   "source": [
    "concepts[0]"
   ]
  },
  {
   "cell_type": "code",
   "execution_count": null,
   "id": "20c35436",
   "metadata": {},
   "outputs": [],
   "source": []
  }
 ],
 "metadata": {
  "kernelspec": {
   "display_name": "Python 3 (ipykernel)",
   "language": "python",
   "name": "python3"
  },
  "language_info": {
   "codemirror_mode": {
    "name": "ipython",
    "version": 3
   },
   "file_extension": ".py",
   "mimetype": "text/x-python",
   "name": "python",
   "nbconvert_exporter": "python",
   "pygments_lexer": "ipython3",
   "version": "3.11.5"
  }
 },
 "nbformat": 4,
 "nbformat_minor": 5
}
