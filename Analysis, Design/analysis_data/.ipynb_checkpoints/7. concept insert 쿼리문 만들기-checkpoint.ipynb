{
 "cells": [
  {
   "cell_type": "code",
   "execution_count": 1,
   "id": "644f0ff8",
   "metadata": {},
   "outputs": [],
   "source": [
    "import json"
   ]
  },
  {
   "cell_type": "code",
   "execution_count": 2,
   "id": "33a853d7",
   "metadata": {},
   "outputs": [],
   "source": [
    "json_path = './data/concepts.json'\n",
    "with open(json_path, 'r', encoding='utf-8') as j :\n",
    "    concepts = json.load(j)"
   ]
  },
  {
   "cell_type": "code",
   "execution_count": 6,
   "id": "7fbd5afd",
   "metadata": {},
   "outputs": [
    {
     "data": {
      "text/plain": [
       "1631"
      ]
     },
     "execution_count": 6,
     "metadata": {},
     "output_type": "execute_result"
    }
   ],
   "source": [
    "len(concepts)"
   ]
  },
  {
   "cell_type": "code",
   "execution_count": 7,
   "id": "5838d328",
   "metadata": {
    "scrolled": true
   },
   "outputs": [
    {
     "data": {
      "text/plain": [
       "{'id': 5814,\n",
       " 'name': '1부터 5까지의 수',\n",
       " 'semester': '초등-초1-1학기',\n",
       " 'description': '1부터 5까지의 수를 읽고 셀 수 있다.',\n",
       " 'chapter': {'id': '1', 'name': '9까지의 수 > 몇일까요 (1)'},\n",
       " 'achievement': {'id': '1', 'name': '50까지의수 개념을이해 하고, 수를 세고 읽고 쓸 수 있다.'}}"
      ]
     },
     "execution_count": 7,
     "metadata": {},
     "output_type": "execute_result"
    }
   ],
   "source": [
    "concepts[0]"
   ]
  },
  {
   "cell_type": "code",
   "execution_count": 32,
   "id": "0da50089",
   "metadata": {},
   "outputs": [],
   "source": [
    "concept = concepts[1000]\n",
    "concept_id = concept['id']\n",
    "concept_name = concept['name']\n",
    "temp = concept['semester'].split('-')\n",
    "school_level = temp[0]\n",
    "grade_level = temp[1]\n",
    "semester = temp[2]\n",
    "description = concept['description']\n",
    "chapter_id = int(concept['chapter']['id'])\n",
    "chapter_name = concept['chapter']['name']\n",
    "achievement_id = int(concept['achievement']['id'])\n",
    "achievement_name = concept['achievement']['name']"
   ]
  },
  {
   "cell_type": "code",
   "execution_count": 33,
   "id": "a8141aa2",
   "metadata": {
    "scrolled": false
   },
   "outputs": [
    {
     "data": {
      "text/plain": [
       "'특정한 문자를 포함하지 않는 항'"
      ]
     },
     "execution_count": 33,
     "metadata": {},
     "output_type": "execute_result"
    }
   ],
   "source": [
    "description"
   ]
  },
  {
   "cell_type": "code",
   "execution_count": 38,
   "id": "41961f6e",
   "metadata": {
    "scrolled": true
   },
   "outputs": [
    {
     "data": {
      "text/plain": [
       "\"INSERT INTO concepts values (3943, '상수항', '고등', '수학', '상', '특정한 문자를 포함하지 않는 항' 539, '다항식 > 다항식의 연산 > 다항식의 덧셈과 뺄셈',  91,  '다항식의 사칙연산을 할 수 있다.')\""
      ]
     },
     "execution_count": 38,
     "metadata": {},
     "output_type": "execute_result"
    }
   ],
   "source": [
    "text = f\"INSERT INTO concepts values ({concept_id}, '{concept_name}', '{school_level}', '{grade_level}', '{semester}', '{description}' {chapter_id}, '{chapter_name}',  {achievement_id},  '{achievement_name}')\"\n",
    "text"
   ]
  },
  {
   "cell_type": "code",
   "execution_count": 2,
   "id": "4e99cde1",
   "metadata": {},
   "outputs": [
    {
     "name": "stdout",
     "output_type": "stream",
     "text": [
      "SQL 문장들 insert_concepts.sql 파일로 저장 성공\n"
     ]
    }
   ],
   "source": [
    "# 최종\n",
    "\n",
    "json_path = './data/concepts_sorted.json'\n",
    "with open(json_path, 'r', encoding='utf-8') as j :\n",
    "    concepts = json.load(j)\n",
    "\n",
    "file_path = \"./data/insert_concepts.sql\"\n",
    "\n",
    "with open(file_path, \"w\", encoding='utf-8') as file:\n",
    "    for concept in concepts :\n",
    "        concept_id = concept['id']\n",
    "        concept_name = concept['name']\n",
    "        temp = concept['semester'].split('-')\n",
    "        school_level = temp[0]\n",
    "        grade_level = temp[1]\n",
    "        semester = temp[2]\n",
    "        description = concept['description']\n",
    "        chapter_id = int(concept['chapter']['id'])\n",
    "        chapter_name = concept['chapter']['name']\n",
    "        try:\n",
    "            achievement_id = int(concept['achievement']['id'])\n",
    "        except KeyError:\n",
    "            print(f\"{concept_id}에는 achievement_id가 존재하지 않습니다.\")\n",
    "        achievement_name = concept['achievement']['name']\n",
    "        sql = f\"INSERT INTO concepts values ({concept_id}, '{concept_name}', '{school_level}', '{grade_level}', '{semester}', '{description}', {chapter_id}, '{chapter_name}', {achievement_id}, '{achievement_name}');\"\n",
    "        file.write(sql + \"\\n\")\n",
    "\n",
    "print(\"SQL 문장들 insert_concepts.sql 파일로 저장 성공\")"
   ]
  },
  {
   "cell_type": "code",
   "execution_count": null,
   "id": "e0ada48e",
   "metadata": {},
   "outputs": [],
   "source": []
  }
 ],
 "metadata": {
  "kernelspec": {
   "display_name": "Python 3 (ipykernel)",
   "language": "python",
   "name": "python3"
  },
  "language_info": {
   "codemirror_mode": {
    "name": "ipython",
    "version": 3
   },
   "file_extension": ".py",
   "mimetype": "text/x-python",
   "name": "python",
   "nbconvert_exporter": "python",
   "pygments_lexer": "ipython3",
   "version": "3.10.9"
  }
 },
 "nbformat": 4,
 "nbformat_minor": 5
}
