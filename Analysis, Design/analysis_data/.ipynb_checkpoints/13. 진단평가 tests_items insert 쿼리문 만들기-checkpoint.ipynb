{
 "cells": [
  {
   "cell_type": "code",
   "execution_count": 2,
   "id": "8ce835e5",
   "metadata": {},
   "outputs": [],
   "source": [
    "file_path = \"./data/insert_diag_testsitems.sql\"\n",
    "cnt = 4894\n",
    "with open(file_path, \"w\", encoding='utf-8') as file:\n",
    "    for i in range(1, 13) : \n",
    "        for j in range(1, 21) :\n",
    "            sql = f\"INSERT INTO tests_items(test_id, item_id, test_item_number) VALUES ({i}, {cnt}, {j});\"\n",
    "            file.write(sql + \"\\n\")\n",
    "            cnt+=1"
   ]
  },
  {
   "cell_type": "code",
   "execution_count": null,
   "id": "54167f5f",
   "metadata": {},
   "outputs": [],
   "source": []
  }
 ],
 "metadata": {
  "kernelspec": {
   "display_name": "Python 3 (ipykernel)",
   "language": "python",
   "name": "python3"
  },
  "language_info": {
   "codemirror_mode": {
    "name": "ipython",
    "version": 3
   },
   "file_extension": ".py",
   "mimetype": "text/x-python",
   "name": "python",
   "nbconvert_exporter": "python",
   "pygments_lexer": "ipython3",
   "version": "3.7.16"
  }
 },
 "nbformat": 4,
 "nbformat_minor": 5
}
