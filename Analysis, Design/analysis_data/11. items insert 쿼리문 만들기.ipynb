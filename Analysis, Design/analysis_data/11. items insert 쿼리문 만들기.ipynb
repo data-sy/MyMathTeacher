{
 "cells": [
  {
   "cell_type": "markdown",
   "id": "84315704",
   "metadata": {},
   "source": [
    "### ㅇ 문항\n",
    "- ~문항 아이디 : 자동~\n",
    "- 문항 정답 : 문제 출력 시 정답지도 함께 출력줘야 하므로 => 1, 2, 3, 4, 5 랜덤 입력\n",
    "- 원본 이미지 경로 : 이미지 이름은 1~1865에 맞춰서 & 각각 3문제씩 (1), (2), (3)\n",
    "- 단위개념 아이디 : knowledgeTag_skillID에 매핑되어 있는 단위개념 찾아서 적기"
   ]
  },
  {
   "cell_type": "code",
   "execution_count": 4,
   "id": "7cd18c18",
   "metadata": {},
   "outputs": [],
   "source": [
    "import json\n",
    "# knowledgeTag_skillID 가져오기\n",
    "json_path = './data/knowledgeTag_skillID.json'\n",
    "with open(json_path, 'r', encoding='utf-8') as j :\n",
    "    skill_dic = json.load(j)"
   ]
  },
  {
   "cell_type": "code",
   "execution_count": 15,
   "id": "814f30ba",
   "metadata": {},
   "outputs": [],
   "source": [
    "import random\n",
    "\n",
    "file_path = \"./data/insert_items.sql\"\n",
    "\n",
    "rand_num = random.randint(1, 5)\n",
    "\n",
    "with open(file_path, \"w\") as file:\n",
    "    for i in range(1, 1866) :\n",
    "        concept_id = skill_dic[str(i)]\n",
    "        for j in range(1, 4) :\n",
    "            rand_num = random.randint(1, 5)\n",
    "            image_path = f\"/images/{i}({j})\"\n",
    "            sql = f\"INSERT INTO items values ('{rand_num}', '{image_path}', {concept_id});\"\n",
    "            file.write(sql + \"\\n\")"
   ]
  },
  {
   "cell_type": "code",
   "execution_count": null,
   "id": "d69afd0c",
   "metadata": {},
   "outputs": [],
   "source": []
  }
 ],
 "metadata": {
  "kernelspec": {
   "display_name": "Python 3 (ipykernel)",
   "language": "python",
   "name": "python3"
  },
  "language_info": {
   "codemirror_mode": {
    "name": "ipython",
    "version": 3
   },
   "file_extension": ".py",
   "mimetype": "text/x-python",
   "name": "python",
   "nbconvert_exporter": "python",
   "pygments_lexer": "ipython3",
   "version": "3.7.16"
  }
 },
 "nbformat": 4,
 "nbformat_minor": 5
}
