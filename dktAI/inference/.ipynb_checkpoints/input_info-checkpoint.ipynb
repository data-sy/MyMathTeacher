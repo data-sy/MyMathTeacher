{
 "cells": [
  {
   "cell_type": "code",
   "execution_count": 1,
   "id": "c2eae796",
   "metadata": {},
   "outputs": [],
   "source": [
    "import numpy as np"
   ]
  },
  {
   "cell_type": "code",
   "execution_count": 2,
   "id": "aa87350a",
   "metadata": {},
   "outputs": [],
   "source": [
    "import csv"
   ]
  },
  {
   "cell_type": "code",
   "execution_count": 3,
   "id": "04e15e9e",
   "metadata": {},
   "outputs": [],
   "source": [
    "def pad(data, target_length, target_value=0):\n",
    "    return np.pad(data, (0, target_length - len(data)), 'constant', constant_values=target_value)\n",
    "\n",
    "def one_hot(indices, depth):\n",
    "    encoding = np.concatenate((np.eye(depth), [np.zeros(depth)]))\n",
    "    indices[indices!=-1] -= 1\n",
    "    return encoding[indices]\n",
    "\n",
    "def read_data_from_csv(filename):\n",
    "    # read the csv file\n",
    "    rows = []\n",
    "    with open(filename, 'r') as f:\n",
    "        print(\"Reading {0}\".format(filename))\n",
    "        reader = csv.reader(f, delimiter=',')\n",
    "        for row in reader:\n",
    "            rows.append(row)\n",
    "        print(\"{0} lines was read\".format(len(rows)))\n",
    "\n",
    "    # tuples stores the student answering sequence as\n",
    "    # ([num_problems_answered], [problem_ids], [is_corrects])\n",
    "    max_seq_length = 0\n",
    "    # num_problems = 0\n",
    "    num_problems = 1865\n",
    "    \n",
    "    tuples = []\n",
    "    for i in range(0, len(rows), 3):\n",
    "        # numbers of problem a student answered\n",
    "        seq_length = len(rows[i + 1])\n",
    "\n",
    "        # only keep student with at least 3 records.\n",
    "        if seq_length < 3:\n",
    "            continue\n",
    "\n",
    "        problem_seq = rows[i + 1]\n",
    "        correct_seq = rows[i + 2]\n",
    "\n",
    "        invalid_ids_loc = [i for i, pid in enumerate(problem_seq) if pid == '']\n",
    "        for invalid_loc in invalid_ids_loc:\n",
    "            del problem_seq[invalid_loc]\n",
    "            del correct_seq[invalid_loc]\n",
    "\n",
    "        # convert the sequence from string to int.\n",
    "        problem_seq = list(map(int, problem_seq))\n",
    "        correct_seq = list(map(int, correct_seq))\n",
    "\n",
    "        tup = (seq_length, problem_seq, correct_seq)\n",
    "        tuples.append(tup)\n",
    "\n",
    "        if max_seq_length < seq_length:\n",
    "            max_seq_length = seq_length\n",
    "\n",
    "        # pid = max(int(pid) for pid in problem_seq if pid != '')\n",
    "        \n",
    "        # if num_problems < pid:\n",
    "        #     num_problems = pid\n",
    "\n",
    "    print(\"max_num_problems_answered:\", max_seq_length)\n",
    "    print(\"num_problems:\", num_problems)\n",
    "    print(\"The number of data is {0}\".format(len(tuples)))\n",
    "    print(\"Finish reading data.\")\n",
    "\n",
    "    return tuples, num_problems, max_seq_length"
   ]
  },
  {
   "cell_type": "markdown",
   "id": "fda361f8",
   "metadata": {},
   "source": [
    "### ㅇ 예제 데이터로 테스트\n",
    "- 전체 문제 = [1, 2, 3, 4, 5]\n",
    "- 학생A = [1, 2], 학생A_답 = [1, 0]\n",
    "- 학생B = [1, 2, 3], 학생B_답 : [1, 1, 0]"
   ]
  },
  {
   "cell_type": "code",
   "execution_count": 4,
   "id": "d25eb4a6",
   "metadata": {},
   "outputs": [],
   "source": [
    "num_problems = 5\n",
    "problem_seqs = [[1, 2], [1, 2, 3]]\n",
    "correct_seqs = [[1, 0], [1, 1, 0]]\n",
    "max_seq_length = 3\n",
    "num_problems = 5"
   ]
  },
  {
   "cell_type": "code",
   "execution_count": 5,
   "id": "81d5e3c9",
   "metadata": {},
   "outputs": [],
   "source": [
    "problem_seqs_pad = np.array([pad(problem, max_seq_length, target_value=-1) for problem in problem_seqs])\n",
    "correct_seqs_pad = np.array([pad(correct, max_seq_length, target_value=-1) for correct in correct_seqs])"
   ]
  },
  {
   "cell_type": "code",
   "execution_count": 6,
   "id": "4d6cc3e0",
   "metadata": {},
   "outputs": [
    {
     "name": "stdout",
     "output_type": "stream",
     "text": [
      "problem_seqs_pad : \n",
      "[[ 1  2 -1]\n",
      " [ 1  2  3]]\n"
     ]
    }
   ],
   "source": [
    "# 정답 문항id, 오답 문항id, 풀지 않은 문항 -1\n",
    "print(\"problem_seqs_pad : \")\n",
    "print(problem_seqs_pad)"
   ]
  },
  {
   "cell_type": "code",
   "execution_count": 7,
   "id": "c6e7d50c",
   "metadata": {},
   "outputs": [
    {
     "name": "stdout",
     "output_type": "stream",
     "text": [
      "correct_seqs_pad : \n",
      "[[ 1  0 -1]\n",
      " [ 1  1  0]]\n"
     ]
    }
   ],
   "source": [
    "# 정답 1, 오답 0, 풀지 않음 -1\n",
    "print(\"correct_seqs_pad : \")\n",
    "print(correct_seqs_pad)"
   ]
  },
  {
   "cell_type": "code",
   "execution_count": 8,
   "id": "4f3aba8d",
   "metadata": {},
   "outputs": [],
   "source": [
    "temp = problem_seqs_pad * correct_seqs_pad * correct_seqs_pad\n",
    "temp[temp == 0] = -1\n",
    "correct_seqs_pad = temp"
   ]
  },
  {
   "cell_type": "code",
   "execution_count": 9,
   "id": "f26eebea",
   "metadata": {},
   "outputs": [
    {
     "name": "stdout",
     "output_type": "stream",
     "text": [
      "problem_seqs_pad : \n",
      "[[ 1  2 -1]\n",
      " [ 1  2  3]]\n"
     ]
    }
   ],
   "source": [
    "# 정답 문항id, 오답 문항id, 풀지 않은 문항 -1\n",
    "print(\"problem_seqs_pad : \")\n",
    "print(problem_seqs_pad)"
   ]
  },
  {
   "cell_type": "code",
   "execution_count": 10,
   "id": "439310f0",
   "metadata": {},
   "outputs": [
    {
     "name": "stdout",
     "output_type": "stream",
     "text": [
      "correct_seqs_pad : \n",
      "[[ 1 -1 -1]\n",
      " [ 1  2 -1]]\n"
     ]
    }
   ],
   "source": [
    "# 정답 문항id, 오답-1, 풀지 않음 -1\n",
    "print(\"correct_seqs_pad : \")\n",
    "print(correct_seqs_pad)"
   ]
  },
  {
   "cell_type": "code",
   "execution_count": 11,
   "id": "fc0b8303",
   "metadata": {},
   "outputs": [],
   "source": [
    "# 원핫인코딩\n",
    "problem_seqs_oh = one_hot(problem_seqs_pad, depth=num_problems)\n",
    "correct_seqs_oh = one_hot(correct_seqs_pad, depth=num_problems)"
   ]
  },
  {
   "cell_type": "code",
   "execution_count": 12,
   "id": "864775d7",
   "metadata": {
    "scrolled": true
   },
   "outputs": [
    {
     "data": {
      "text/plain": [
       "(2, 3, 5)"
      ]
     },
     "execution_count": 12,
     "metadata": {},
     "output_type": "execute_result"
    }
   ],
   "source": [
    "# (입력데이터 개수, 문항 max 개수, 전체 문항 개수 )\n",
    "problem_seqs_oh.shape"
   ]
  },
  {
   "cell_type": "markdown",
   "id": "4776b93f",
   "metadata": {},
   "source": [
    "##### 해석\n",
    "- n번째 학생, k번 문항 : problem_seqs_oh[n][k][k]\n",
    "  - problem_seqs_oh : 풀었으면 1. 나머지는 0\n",
    "  - correct_seqs_oh : 맞았으면 1. 나머지는 0"
   ]
  },
  {
   "cell_type": "code",
   "execution_count": 13,
   "id": "9264a11a",
   "metadata": {
    "scrolled": false
   },
   "outputs": [
    {
     "data": {
      "text/plain": [
       "array([[1., 0., 0., 0., 0.],\n",
       "       [0., 1., 0., 0., 0.],\n",
       "       [0., 0., 0., 0., 0.]])"
      ]
     },
     "execution_count": 13,
     "metadata": {},
     "output_type": "execute_result"
    }
   ],
   "source": [
    "# 첫 번째 학생\n",
    "problem_seqs_oh[0]"
   ]
  },
  {
   "cell_type": "code",
   "execution_count": 14,
   "id": "f8c3715c",
   "metadata": {
    "scrolled": false
   },
   "outputs": [
    {
     "name": "stdout",
     "output_type": "stream",
     "text": [
      "======================================================problem_seqs=====\n",
      "----- 풀었으면 1 (틀리더라도) -----\n",
      "풀고 맞은 1번 문항은 1 :  1.0\n",
      "풀고 맞은 1번 문항의 다른 문항은 0 :  0.0\n",
      "풀고 틀린 2번 문항은 1 :  1.0\n",
      "풀고 틀린 2번 문항의 다른 문항은 0 :  0.0\n",
      "----- 안 풀었으면 0 -----\n",
      "안 푼 문항은 모두 0 :  [0. 0. 0. 0. 0.]\n"
     ]
    }
   ],
   "source": [
    "# 푼 문항 k에 대해 problem_seqs_oh[0][k][k]는 1. 나머지는 0\n",
    "print(\"======================================================problem_seqs=====\")\n",
    "print(\"----- 풀었으면 1 (틀리더라도) -----\")\n",
    "print(\"풀고 맞은 1번 문항은 1 : \", problem_seqs_oh[0][0][0])\n",
    "print(\"풀고 맞은 1번 문항의 다른 문항은 0 : \", problem_seqs_oh[0][0][1])\n",
    "print(\"풀고 틀린 2번 문항은 1 : \", problem_seqs_oh[0][1][1])\n",
    "print(\"풀고 틀린 2번 문항의 다른 문항은 0 : \", problem_seqs_oh[0][1][0])\n",
    "print(\"----- 안 풀었으면 0 -----\")\n",
    "print(\"안 푼 문항은 모두 0 : \", problem_seqs_oh[0][2])"
   ]
  },
  {
   "cell_type": "code",
   "execution_count": 15,
   "id": "db1a1bf3",
   "metadata": {
    "scrolled": true
   },
   "outputs": [
    {
     "name": "stdout",
     "output_type": "stream",
     "text": [
      "======================================================problem_seqs=====\n",
      "----- 맞았으면 1 -----\n",
      "풀고 맞은 1번 문항은 1 :  1.0\n",
      "풀고 맞은 1번 문항의 다른 문항은 0 :  0.0\n",
      "----- 틀리거나 안 풀었으면 0 -----\n",
      "풀고 틀린 2번 문항은 0 :  0.0\n",
      "풀고 틀린 2번 문항의 다른 문항은 0 :  0.0\n",
      "안 푼 문항은 모두 0 :  [0. 0. 0. 0. 0.]\n"
     ]
    }
   ],
   "source": [
    "# 맞은 문항 k에 대해 correct_seqs_oh[0][k][k]는 1. 나머지는 0\n",
    "print(\"======================================================problem_seqs=====\")\n",
    "print(\"----- 맞았으면 1 -----\")\n",
    "print(\"풀고 맞은 1번 문항은 1 : \", correct_seqs_oh[0][0][0])\n",
    "print(\"풀고 맞은 1번 문항의 다른 문항은 0 : \", correct_seqs_oh[0][0][1])\n",
    "print(\"----- 틀리거나 안 풀었으면 0 -----\")\n",
    "print(\"풀고 틀린 2번 문항은 0 : \", correct_seqs_oh[0][1][1])\n",
    "print(\"풀고 틀린 2번 문항의 다른 문항은 0 : \", correct_seqs_oh[0][1][0])\n",
    "print(\"안 푼 문항은 모두 0 : \", correct_seqs_oh[0][2])"
   ]
  },
  {
   "cell_type": "markdown",
   "id": "4f5b7db0",
   "metadata": {},
   "source": [
    "## DKTData() 과정\n",
    "- 1. read_data_from_csv()로 데이터 불러오기\n",
    "- 2. 문제, 정오답 시퀀스 추출하기\n",
    "- 3. BatchGenerator()\n",
    "  - a.배치사이즈에 맞춰서 시퀀스 쪼개기\n",
    "  - b.OriginalInputProcessor()로 input데이터로 전처리"
   ]
  },
  {
   "cell_type": "code",
   "execution_count": 16,
   "id": "393b5592",
   "metadata": {},
   "outputs": [],
   "source": [
    "batch_size = 32\n",
    "file_path = './input_info_data.csv' # 학생 10명"
   ]
  },
  {
   "cell_type": "code",
   "execution_count": 17,
   "id": "b6e35dc7",
   "metadata": {},
   "outputs": [
    {
     "name": "stdout",
     "output_type": "stream",
     "text": [
      "Reading ./input_info_data.csv\n",
      "30 lines was read\n",
      "max_num_problems_answered: 171\n",
      "num_problems: 1865\n",
      "The number of data is 10\n",
      "Finish reading data.\n"
     ]
    }
   ],
   "source": [
    "# 1. read_data_from_csv()로 데이터 불러오기\n",
    "students, num_problems, max_seq_length = read_data_from_csv(file_path)\n",
    "#print(\"students : \", students)"
   ]
  },
  {
   "cell_type": "code",
   "execution_count": 18,
   "id": "4a790812",
   "metadata": {},
   "outputs": [
    {
     "name": "stdout",
     "output_type": "stream",
     "text": [
      "학생 수 :  10\n",
      "num_problems :  1865\n",
      "max_seq_length 171\n"
     ]
    }
   ],
   "source": [
    "print(\"학생 수 : \", len(students))\n",
    "print(\"num_problems : \", num_problems)\n",
    "print(\"max_seq_length\", max_seq_length)"
   ]
  },
  {
   "cell_type": "code",
   "execution_count": 19,
   "id": "e0e4516a",
   "metadata": {},
   "outputs": [
    {
     "data": {
      "text/plain": [
       "(5, [10, 10, 100, 100, 1000], [1, 1, 1, 0, 0])"
      ]
     },
     "execution_count": 19,
     "metadata": {},
     "output_type": "execute_result"
    }
   ],
   "source": [
    "# 학생 당 길이 3인 튜플 (문제 개수, 문제 시퀀스, 정오답 시퀀스)\n",
    "students[0]"
   ]
  },
  {
   "cell_type": "code",
   "execution_count": 20,
   "id": "e9c1324d",
   "metadata": {},
   "outputs": [],
   "source": [
    "# 학생 당 길이 3인 튜플 (문제 개수, 문제 시퀀스, 정오답 시퀀스)\n",
    "problem_seqs = [student[1] for student in students]\n",
    "correct_seqs = [student[2] for student in students]\n",
    "# print(\"problem_seqs : \", problem_seqs)\n",
    "# print(\"correct_seqs : \", correct_seqs)"
   ]
  },
  {
   "cell_type": "code",
   "execution_count": 21,
   "id": "ec0a6eed",
   "metadata": {
    "scrolled": false
   },
   "outputs": [
    {
     "data": {
      "text/plain": [
       "[10, 10, 100, 100, 1000]"
      ]
     },
     "execution_count": 21,
     "metadata": {},
     "output_type": "execute_result"
    }
   ],
   "source": [
    "problem_seqs[0]"
   ]
  },
  {
   "cell_type": "code",
   "execution_count": 22,
   "id": "936ab61f",
   "metadata": {},
   "outputs": [
    {
     "data": {
      "text/plain": [
       "[1, 1, 1, 0, 0]"
      ]
     },
     "execution_count": 22,
     "metadata": {},
     "output_type": "execute_result"
    }
   ],
   "source": [
    "correct_seqs[0]"
   ]
  },
  {
   "cell_type": "markdown",
   "id": "302123ee",
   "metadata": {},
   "source": [
    "3. BatchGenerator()\n",
    "### b.OriginalInputProcessor()로 input데이터로 전처리"
   ]
  },
  {
   "cell_type": "code",
   "execution_count": 23,
   "id": "764f3255",
   "metadata": {},
   "outputs": [],
   "source": [
    "# 최대 길이를 기준으로 시퀀스를 패딩\n",
    "max_seq_length = max([len(problem) for problem in problem_seqs])\n",
    "problem_seqs_pad = np.array([pad(problem, max_seq_length, target_value=-1) for problem in problem_seqs])\n",
    "correct_seqs_pad = np.array([pad(correct, max_seq_length, target_value=-1) for correct in correct_seqs])\n",
    "# print(\"problem_seqs_pad : \", problem_seqs_pad)\n",
    "# print(\"correct_seqs_pad : \", correct_seqs_pad)"
   ]
  },
  {
   "cell_type": "code",
   "execution_count": 24,
   "id": "91f6b274",
   "metadata": {
    "scrolled": false
   },
   "outputs": [
    {
     "data": {
      "text/plain": [
       "(10, 171)"
      ]
     },
     "execution_count": 24,
     "metadata": {},
     "output_type": "execute_result"
    }
   ],
   "source": [
    "# 10행 171열의 np.array\n",
    "problem_seqs_pad.shape"
   ]
  },
  {
   "cell_type": "code",
   "execution_count": 25,
   "id": "88b7a4a2",
   "metadata": {},
   "outputs": [
    {
     "data": {
      "text/plain": [
       "array([  10,   10,  100,  100, 1000,   -1,   -1,   -1,   -1,   -1,   -1,\n",
       "         -1,   -1,   -1,   -1,   -1,   -1,   -1,   -1,   -1,   -1,   -1,\n",
       "         -1,   -1,   -1,   -1,   -1,   -1,   -1,   -1,   -1,   -1,   -1,\n",
       "         -1,   -1,   -1,   -1,   -1,   -1,   -1,   -1,   -1,   -1,   -1,\n",
       "         -1,   -1,   -1,   -1,   -1,   -1,   -1,   -1,   -1,   -1,   -1,\n",
       "         -1,   -1,   -1,   -1,   -1,   -1,   -1,   -1,   -1,   -1,   -1,\n",
       "         -1,   -1,   -1,   -1,   -1,   -1,   -1,   -1,   -1,   -1,   -1,\n",
       "         -1,   -1,   -1,   -1,   -1,   -1,   -1,   -1,   -1,   -1,   -1,\n",
       "         -1,   -1,   -1,   -1,   -1,   -1,   -1,   -1,   -1,   -1,   -1,\n",
       "         -1,   -1,   -1,   -1,   -1,   -1,   -1,   -1,   -1,   -1,   -1,\n",
       "         -1,   -1,   -1,   -1,   -1,   -1,   -1,   -1,   -1,   -1,   -1,\n",
       "         -1,   -1,   -1,   -1,   -1,   -1,   -1,   -1,   -1,   -1,   -1,\n",
       "         -1,   -1,   -1,   -1,   -1,   -1,   -1,   -1,   -1,   -1,   -1,\n",
       "         -1,   -1,   -1,   -1,   -1,   -1,   -1,   -1,   -1,   -1,   -1,\n",
       "         -1,   -1,   -1,   -1,   -1,   -1,   -1,   -1,   -1,   -1,   -1,\n",
       "         -1,   -1,   -1,   -1,   -1,   -1])"
      ]
     },
     "execution_count": 25,
     "metadata": {},
     "output_type": "execute_result"
    }
   ],
   "source": [
    "problem_seqs_pad[0]"
   ]
  },
  {
   "cell_type": "code",
   "execution_count": 26,
   "id": "0617d489",
   "metadata": {},
   "outputs": [
    {
     "data": {
      "text/plain": [
       "array([ 1,  1,  1,  0,  0, -1, -1, -1, -1, -1, -1, -1, -1, -1, -1, -1, -1,\n",
       "       -1, -1, -1, -1, -1, -1, -1, -1, -1, -1, -1, -1, -1, -1, -1, -1, -1,\n",
       "       -1, -1, -1, -1, -1, -1, -1, -1, -1, -1, -1, -1, -1, -1, -1, -1, -1,\n",
       "       -1, -1, -1, -1, -1, -1, -1, -1, -1, -1, -1, -1, -1, -1, -1, -1, -1,\n",
       "       -1, -1, -1, -1, -1, -1, -1, -1, -1, -1, -1, -1, -1, -1, -1, -1, -1,\n",
       "       -1, -1, -1, -1, -1, -1, -1, -1, -1, -1, -1, -1, -1, -1, -1, -1, -1,\n",
       "       -1, -1, -1, -1, -1, -1, -1, -1, -1, -1, -1, -1, -1, -1, -1, -1, -1,\n",
       "       -1, -1, -1, -1, -1, -1, -1, -1, -1, -1, -1, -1, -1, -1, -1, -1, -1,\n",
       "       -1, -1, -1, -1, -1, -1, -1, -1, -1, -1, -1, -1, -1, -1, -1, -1, -1,\n",
       "       -1, -1, -1, -1, -1, -1, -1, -1, -1, -1, -1, -1, -1, -1, -1, -1, -1,\n",
       "       -1])"
      ]
     },
     "execution_count": 26,
     "metadata": {},
     "output_type": "execute_result"
    }
   ],
   "source": [
    "correct_seqs_pad[0]"
   ]
  },
  {
   "cell_type": "code",
   "execution_count": 27,
   "id": "b5983035",
   "metadata": {},
   "outputs": [
    {
     "name": "stdout",
     "output_type": "stream",
     "text": [
      "[[ 5 12]\n",
      " [21 32]]\n"
     ]
    }
   ],
   "source": [
    "# array 곱(*) : 요소별로 곱셈\n",
    "a = np.array([[1, 2],\n",
    "              [3, 4]])\n",
    "b = np.array([[5, 6],\n",
    "              [7, 8]])\n",
    "print(a*b)"
   ]
  },
  {
   "cell_type": "markdown",
   "id": "5d263d50",
   "metadata": {},
   "source": [
    "#### ㅇ temp 의 의미\n",
    "- temp = problem_seqs_pad * correct_seqs_pad * correct_seqs_pad\n",
    "- 3가지 경우 구분 가능 : 문제 풀고 정답 / 문제 풀고 오답(0) / 문제를 풀지 않음(-1)\n",
    "- new_temp : 0인 값들을 -1로 변환 temp[temp == 0] = -1\n",
    "||정답|오답|풀지 않음|\n",
    "|:---:|:---:|:---:|:---:|\n",
    "|problem_seqs_pad|문항id|문항id|-1|\n",
    "|correct_seqs_pad|1|0|-1|\n",
    "|correct_seqs_pad\\*correct_seqs_pad|1|0|1|\n",
    "|**temp**|**문항id**|**0**|**-1**|\n",
    "|new_temp<br/>new_correct_seqs_pad|문항id|-1|-1|"
   ]
  },
  {
   "cell_type": "code",
   "execution_count": 28,
   "id": "1ba3744e",
   "metadata": {},
   "outputs": [],
   "source": [
    "# DKT의 원리 적용\n",
    "    # 학생이 문제를 풀었고 정답 : 문항id\n",
    "    # 학생이 문제를 풀었지만 오답 or 문제 풀지 않음 : -1\n",
    "temp = problem_seqs_pad * correct_seqs_pad * correct_seqs_pad"
   ]
  },
  {
   "cell_type": "code",
   "execution_count": 29,
   "id": "0fc791e8",
   "metadata": {},
   "outputs": [
    {
     "name": "stdout",
     "output_type": "stream",
     "text": [
      "temp[0] :  [ 10  10 100   0   0  -1  -1  -1  -1  -1  -1  -1  -1  -1  -1  -1  -1  -1\n",
      "  -1  -1  -1  -1  -1  -1  -1  -1  -1  -1  -1  -1  -1  -1  -1  -1  -1  -1\n",
      "  -1  -1  -1  -1  -1  -1  -1  -1  -1  -1  -1  -1  -1  -1  -1  -1  -1  -1\n",
      "  -1  -1  -1  -1  -1  -1  -1  -1  -1  -1  -1  -1  -1  -1  -1  -1  -1  -1\n",
      "  -1  -1  -1  -1  -1  -1  -1  -1  -1  -1  -1  -1  -1  -1  -1  -1  -1  -1\n",
      "  -1  -1  -1  -1  -1  -1  -1  -1  -1  -1  -1  -1  -1  -1  -1  -1  -1  -1\n",
      "  -1  -1  -1  -1  -1  -1  -1  -1  -1  -1  -1  -1  -1  -1  -1  -1  -1  -1\n",
      "  -1  -1  -1  -1  -1  -1  -1  -1  -1  -1  -1  -1  -1  -1  -1  -1  -1  -1\n",
      "  -1  -1  -1  -1  -1  -1  -1  -1  -1  -1  -1  -1  -1  -1  -1  -1  -1  -1\n",
      "  -1  -1  -1  -1  -1  -1  -1  -1  -1]\n"
     ]
    }
   ],
   "source": [
    "print(\"temp[0] : \", temp[0])"
   ]
  },
  {
   "cell_type": "code",
   "execution_count": 30,
   "id": "3efb4394",
   "metadata": {
    "scrolled": true
   },
   "outputs": [],
   "source": [
    "# 원핫인코딩을 위해\n",
    "temp[temp == 0] = -1\n",
    "correct_seqs_pad = temp"
   ]
  },
  {
   "cell_type": "code",
   "execution_count": 31,
   "id": "28e0ed7f",
   "metadata": {},
   "outputs": [
    {
     "name": "stdout",
     "output_type": "stream",
     "text": [
      "new temp[0] :  [ 10  10 100  -1  -1  -1  -1  -1  -1  -1  -1  -1  -1  -1  -1  -1  -1  -1\n",
      "  -1  -1  -1  -1  -1  -1  -1  -1  -1  -1  -1  -1  -1  -1  -1  -1  -1  -1\n",
      "  -1  -1  -1  -1  -1  -1  -1  -1  -1  -1  -1  -1  -1  -1  -1  -1  -1  -1\n",
      "  -1  -1  -1  -1  -1  -1  -1  -1  -1  -1  -1  -1  -1  -1  -1  -1  -1  -1\n",
      "  -1  -1  -1  -1  -1  -1  -1  -1  -1  -1  -1  -1  -1  -1  -1  -1  -1  -1\n",
      "  -1  -1  -1  -1  -1  -1  -1  -1  -1  -1  -1  -1  -1  -1  -1  -1  -1  -1\n",
      "  -1  -1  -1  -1  -1  -1  -1  -1  -1  -1  -1  -1  -1  -1  -1  -1  -1  -1\n",
      "  -1  -1  -1  -1  -1  -1  -1  -1  -1  -1  -1  -1  -1  -1  -1  -1  -1  -1\n",
      "  -1  -1  -1  -1  -1  -1  -1  -1  -1  -1  -1  -1  -1  -1  -1  -1  -1  -1\n",
      "  -1  -1  -1  -1  -1  -1  -1  -1  -1]\n"
     ]
    }
   ],
   "source": [
    "print(\"new temp[0] : \", temp[0])"
   ]
  },
  {
   "cell_type": "code",
   "execution_count": 32,
   "id": "38dded16",
   "metadata": {},
   "outputs": [
    {
     "name": "stdout",
     "output_type": "stream",
     "text": [
      "new correct_seqs_pad[0]:  [ 10  10 100  -1  -1  -1  -1  -1  -1  -1  -1  -1  -1  -1  -1  -1  -1  -1\n",
      "  -1  -1  -1  -1  -1  -1  -1  -1  -1  -1  -1  -1  -1  -1  -1  -1  -1  -1\n",
      "  -1  -1  -1  -1  -1  -1  -1  -1  -1  -1  -1  -1  -1  -1  -1  -1  -1  -1\n",
      "  -1  -1  -1  -1  -1  -1  -1  -1  -1  -1  -1  -1  -1  -1  -1  -1  -1  -1\n",
      "  -1  -1  -1  -1  -1  -1  -1  -1  -1  -1  -1  -1  -1  -1  -1  -1  -1  -1\n",
      "  -1  -1  -1  -1  -1  -1  -1  -1  -1  -1  -1  -1  -1  -1  -1  -1  -1  -1\n",
      "  -1  -1  -1  -1  -1  -1  -1  -1  -1  -1  -1  -1  -1  -1  -1  -1  -1  -1\n",
      "  -1  -1  -1  -1  -1  -1  -1  -1  -1  -1  -1  -1  -1  -1  -1  -1  -1  -1\n",
      "  -1  -1  -1  -1  -1  -1  -1  -1  -1  -1  -1  -1  -1  -1  -1  -1  -1  -1\n",
      "  -1  -1  -1  -1  -1  -1  -1  -1  -1]\n"
     ]
    }
   ],
   "source": [
    "print(\"new correct_seqs_pad[0]: \",correct_seqs_pad[0])"
   ]
  },
  {
   "cell_type": "code",
   "execution_count": 33,
   "id": "2117716d",
   "metadata": {},
   "outputs": [],
   "source": [
    "# 원핫인코딩\n",
    "problem_seqs_oh = one_hot(problem_seqs_pad, depth=num_problems)\n",
    "correct_seqs_oh = one_hot(correct_seqs_pad, depth=num_problems)"
   ]
  },
  {
   "cell_type": "code",
   "execution_count": 34,
   "id": "c647f346",
   "metadata": {
    "scrolled": true
   },
   "outputs": [
    {
     "data": {
      "text/plain": [
       "(10, 171, 1865)"
      ]
     },
     "execution_count": 34,
     "metadata": {},
     "output_type": "execute_result"
    }
   ],
   "source": [
    "# (학생 10명, 문항 max 개수 171개, 전체 문항 개수 1865개)\n",
    "problem_seqs_oh.shape"
   ]
  },
  {
   "cell_type": "code",
   "execution_count": 35,
   "id": "6e15387a",
   "metadata": {},
   "outputs": [
    {
     "data": {
      "text/plain": [
       "(10, 171, 1865)"
      ]
     },
     "execution_count": 35,
     "metadata": {},
     "output_type": "execute_result"
    }
   ],
   "source": [
    "correct_seqs_oh.shape"
   ]
  },
  {
   "cell_type": "markdown",
   "id": "192d1e43",
   "metadata": {},
   "source": [
    "### 해석\n",
    "- n번째 학생, [k]번 문항, 문항id i : problem_seqs_oh[n][k][i]\n",
    "  - problem_seqs_oh : 풀었으면 1. 나머지는 0\n",
    "  - correct_seqs_oh : 맞았으면 1. 나머지는 0"
   ]
  },
  {
   "cell_type": "code",
   "execution_count": 36,
   "id": "f99b6a62",
   "metadata": {
    "scrolled": true
   },
   "outputs": [
    {
     "data": {
      "text/plain": [
       "(171, 1865)"
      ]
     },
     "execution_count": 36,
     "metadata": {},
     "output_type": "execute_result"
    }
   ],
   "source": [
    "# 첫 번째 학생\n",
    "                     #[0]번,[1]번,[2]번,[3]번,[4]번\n",
    "    # problem_seqs[0] = [10, 10, 100, 100, 1000]                    \n",
    "    # correct_seqs[0] = [1, 1, 1, 0, 0]\n",
    "stu1 = problem_seqs_oh[0]\n",
    "stu1.shape"
   ]
  },
  {
   "cell_type": "code",
   "execution_count": 37,
   "id": "6d59c4ac",
   "metadata": {
    "scrolled": true
   },
   "outputs": [
    {
     "name": "stdout",
     "output_type": "stream",
     "text": [
      "======================================================problem_seqs=====\n",
      "풀고 맞은 [0]번 문항(id 10)은 1 :  1.0\n",
      "풀고 맞은 [0]번 문항의 다른 문항(id 323)은 0 :  0.0\n",
      "풀고 틀린 [3]번 문항(id 100)은 1 :  1.0\n",
      "풀고 틀린 [3]번 문항의 다른 문항(id 1864)은 0 :  0.0\n",
      "안 푼 [5]번 문항은 모두 0 : \n"
     ]
    }
   ],
   "source": [
    "# stu1[k][i]에 대해 풀었으면 1, 안 풀었으면 0\n",
    "print(\"======================================================problem_seqs=====\")\n",
    "print(\"풀고 맞은 [0]번 문항(id 10)은 1 : \", problem_seqs_oh[0][0][9])\n",
    "print(\"풀고 맞은 [0]번 문항의 다른 문항(id 323)은 0 : \", problem_seqs_oh[0][0][324])\n",
    "print(\"풀고 틀린 [3]번 문항(id 100)은 1 : \", problem_seqs_oh[0][3][99])\n",
    "print(\"풀고 틀린 [3]번 문항의 다른 문항(id 1864)은 0 : \", problem_seqs_oh[0][3][1864])\n",
    "print(\"안 푼 [5]번 문항은 모두 0 : \")\n",
    "for i in range(len(problem_seqs_oh[0][5])):\n",
    "    if problem_seqs_oh[0][5][i] != 0.0 :\n",
    "        print(\"0이 아닌 원소 있습니다.\") # 프린트문이 나오지 않았으므로 모두 0 맞음\n",
    "        break;"
   ]
  },
  {
   "cell_type": "code",
   "execution_count": 38,
   "id": "16d5f152",
   "metadata": {
    "scrolled": false
   },
   "outputs": [
    {
     "name": "stdout",
     "output_type": "stream",
     "text": [
      "======================================================correct_seqs=====\n",
      "풀고 맞은 [2]번 문항(id 100)은 1 :  1.0\n",
      "풀고 맞은 [2]번 문항의 다른 문항(id 10)은 0 :  0.0\n",
      "풀고 틀린 [4]번 문항(id 1000)은 0 :  0.0\n",
      "풀고 틀린 [4]번 문항의 다른 문항(id 100)은 0 :  0.0\n",
      "안 푼 [170]번 문항은 모두 0 : \n"
     ]
    }
   ],
   "source": [
    "# stu1[k][i]에 대해 맞았으면 1, 틀리거나 안 풀었으면 0\n",
    "print(\"======================================================correct_seqs=====\")\n",
    "print(\"풀고 맞은 [2]번 문항(id 100)은 1 : \", correct_seqs_oh[0][2][99])\n",
    "print(\"풀고 맞은 [2]번 문항의 다른 문항(id 10)은 0 : \", correct_seqs_oh[0][2][9])\n",
    "print(\"풀고 틀린 [4]번 문항(id 1000)은 0 : \", correct_seqs_oh[0][4][999])\n",
    "print(\"풀고 틀린 [4]번 문항의 다른 문항(id 100)은 0 : \", correct_seqs_oh[0][4][99])\n",
    "print(\"안 푼 [170]번 문항은 모두 0 : \")\n",
    "for i in range(len(correct_seqs_oh[0][170])):\n",
    "    if correct_seqs_oh[0][170][i] != 0.0 :\n",
    "        print(\"0이 아닌 원소 있습니다.\") # 프린트문이 나오지 않았으므로 모두 0 맞음\n",
    "        break;"
   ]
  },
  {
   "cell_type": "code",
   "execution_count": 39,
   "id": "540daaf0",
   "metadata": {},
   "outputs": [],
   "source": [
    "# 문제 X와 정답 y로 쪼개기\n",
    "# train 인 경우 (즉 학습 시에는) 시퀀스의 마지막 원소를 떼서 정답으로 사용\n",
    "# 앞 문항들의 정오답을 학습해서 마지막 문항의 정오답을 예측하는 모델\n",
    "x_problem_seqs = problem_seqs_oh[:, :-1]\n",
    "x_correct_seqs = correct_seqs_oh[:, :-1]\n",
    "y_problem_seqs = problem_seqs_oh[:, 1:]\n",
    "y_correct_seqs = correct_seqs_oh[:, 1:]"
   ]
  },
  {
   "cell_type": "code",
   "execution_count": 40,
   "id": "03d32b39",
   "metadata": {
    "scrolled": true
   },
   "outputs": [
    {
     "data": {
      "text/plain": [
       "(10, 170, 1865)"
      ]
     },
     "execution_count": 40,
     "metadata": {},
     "output_type": "execute_result"
    }
   ],
   "source": [
    "x_problem_seqs.shape"
   ]
  },
  {
   "cell_type": "code",
   "execution_count": 41,
   "id": "f64bda92",
   "metadata": {},
   "outputs": [
    {
     "data": {
      "text/plain": [
       "(10, 170, 1865)"
      ]
     },
     "execution_count": 41,
     "metadata": {},
     "output_type": "execute_result"
    }
   ],
   "source": [
    "x_correct_seqs.shape"
   ]
  },
  {
   "cell_type": "code",
   "execution_count": 42,
   "id": "b22f90c5",
   "metadata": {},
   "outputs": [
    {
     "data": {
      "text/plain": [
       "(10, 170, 1865)"
      ]
     },
     "execution_count": 42,
     "metadata": {},
     "output_type": "execute_result"
    }
   ],
   "source": [
    "y_problem_seqs.shape"
   ]
  },
  {
   "cell_type": "code",
   "execution_count": 43,
   "id": "89359a32",
   "metadata": {},
   "outputs": [
    {
     "data": {
      "text/plain": [
       "(10, 170, 1865)"
      ]
     },
     "execution_count": 43,
     "metadata": {},
     "output_type": "execute_result"
    }
   ],
   "source": [
    "y_correct_seqs.shape"
   ]
  },
  {
   "cell_type": "markdown",
   "id": "bed3e663",
   "metadata": {},
   "source": [
    "# Q. 마지막 문항을 171번 문항으로 생각해도 괜찮은걸까?\n",
    "각 학생마다 실질적인 마지막 문항은 다르지 않나?\n",
    "(내가 적절하다고 생각하는 알고리즘 방향)\n",
    "- 실질적 마지막 문항 y로 떼고 (학생마다 다르겠지?)\n",
    "- 그 문항은 안 푼 문항 처리\n",
    "<br/>\n",
    "<br/>\n",
    "- 그러면 쉐입은 (10, 171, 1865)가 되겠지?!\n",
    "- 데이터가 많아지면 의미 없어져서 그냥 이렇게 하는 건가 혹시...??"
   ]
  },
  {
   "cell_type": "code",
   "execution_count": 44,
   "id": "2da96756",
   "metadata": {},
   "outputs": [],
   "source": [
    "# 학습 데이터\n",
    "X = np.concatenate((x_problem_seqs, x_correct_seqs), axis=2)"
   ]
  },
  {
   "cell_type": "code",
   "execution_count": 45,
   "id": "7efd64df",
   "metadata": {},
   "outputs": [],
   "source": [
    "# 모델에 입력할 최종 데이터\n",
    "result = (X, y_problem_seqs, y_correct_seqs)"
   ]
  },
  {
   "cell_type": "code",
   "execution_count": null,
   "id": "fa7480d1",
   "metadata": {},
   "outputs": [],
   "source": []
  },
  {
   "cell_type": "code",
   "execution_count": null,
   "id": "a0077382",
   "metadata": {},
   "outputs": [],
   "source": []
  },
  {
   "cell_type": "code",
   "execution_count": null,
   "id": "449e4b19",
   "metadata": {},
   "outputs": [],
   "source": []
  }
 ],
 "metadata": {
  "kernelspec": {
   "display_name": "Python 3 (ipykernel)",
   "language": "python",
   "name": "python3"
  },
  "language_info": {
   "codemirror_mode": {
    "name": "ipython",
    "version": 3
   },
   "file_extension": ".py",
   "mimetype": "text/x-python",
   "name": "python",
   "nbconvert_exporter": "python",
   "pygments_lexer": "ipython3",
   "version": "3.10.9"
  }
 },
 "nbformat": 4,
 "nbformat_minor": 5
}
