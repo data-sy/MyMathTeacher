{
 "cells": [
  {
   "cell_type": "code",
   "execution_count": 1,
   "id": "410a387e",
   "metadata": {},
   "outputs": [],
   "source": [
    "import json"
   ]
  },
  {
   "cell_type": "code",
   "execution_count": 2,
   "id": "1a7526e8",
   "metadata": {},
   "outputs": [],
   "source": [
    "# json 파일은 sample_data의 labeled_data\n",
    "# 파일 구조 내용은 출력용으로 json타이핑.txt\n",
    "# 실제 세부 내역에 대한 이해는 가이드라인.pdf 3page~"
   ]
  },
  {
   "cell_type": "code",
   "execution_count": 3,
   "id": "e2f2765e",
   "metadata": {},
   "outputs": [],
   "source": [
    "file_ox = './sample_data/labeled_data/1_문항정오답표_rule_20210210163612.json'\n",
    "file_itemIRT = './sample_data/labeled_data/2_문항IRT_rule_20210210164012.json'\n",
    "file_stuIRT = './sample_data/labeled_data/3_응시자IRT_rule_20210210164059.json'"
   ]
  },
  {
   "cell_type": "markdown",
   "id": "50b59955",
   "metadata": {},
   "source": [
    "### 문항정오답표"
   ]
  },
  {
   "cell_type": "code",
   "execution_count": 4,
   "id": "6e246048",
   "metadata": {
    "scrolled": false
   },
   "outputs": [
    {
     "ename": "FileNotFoundError",
     "evalue": "[Errno 2] No such file or directory: './sample/labeled_data/1_문항정오답표_rule_20210210163612.json'",
     "output_type": "error",
     "traceback": [
      "\u001b[1;31m---------------------------------------------------------------------------\u001b[0m",
      "\u001b[1;31mFileNotFoundError\u001b[0m                         Traceback (most recent call last)",
      "Cell \u001b[1;32mIn[4], line 2\u001b[0m\n\u001b[0;32m      1\u001b[0m \u001b[38;5;66;03m# 문항정오답표\u001b[39;00m\n\u001b[1;32m----> 2\u001b[0m \u001b[38;5;28;01mwith\u001b[39;00m \u001b[38;5;28;43mopen\u001b[39;49m\u001b[43m(\u001b[49m\u001b[43mfile_ox\u001b[49m\u001b[43m,\u001b[49m\u001b[43m \u001b[49m\u001b[38;5;124;43m'\u001b[39;49m\u001b[38;5;124;43mr\u001b[39;49m\u001b[38;5;124;43m'\u001b[39;49m\u001b[43m)\u001b[49m \u001b[38;5;28;01mas\u001b[39;00m f:\n\u001b[0;32m      3\u001b[0m     json_data \u001b[38;5;241m=\u001b[39m json\u001b[38;5;241m.\u001b[39mload(f)\n\u001b[0;32m      4\u001b[0m     \u001b[38;5;28mprint\u001b[39m(json\u001b[38;5;241m.\u001b[39mdumps(json_data, indent \u001b[38;5;241m=\u001b[39m \u001b[38;5;241m4\u001b[39m))\n",
      "File \u001b[1;32m~\\anaconda3\\lib\\site-packages\\IPython\\core\\interactiveshell.py:282\u001b[0m, in \u001b[0;36m_modified_open\u001b[1;34m(file, *args, **kwargs)\u001b[0m\n\u001b[0;32m    275\u001b[0m \u001b[38;5;28;01mif\u001b[39;00m file \u001b[38;5;129;01min\u001b[39;00m {\u001b[38;5;241m0\u001b[39m, \u001b[38;5;241m1\u001b[39m, \u001b[38;5;241m2\u001b[39m}:\n\u001b[0;32m    276\u001b[0m     \u001b[38;5;28;01mraise\u001b[39;00m \u001b[38;5;167;01mValueError\u001b[39;00m(\n\u001b[0;32m    277\u001b[0m         \u001b[38;5;124mf\u001b[39m\u001b[38;5;124m\"\u001b[39m\u001b[38;5;124mIPython won\u001b[39m\u001b[38;5;124m'\u001b[39m\u001b[38;5;124mt let you open fd=\u001b[39m\u001b[38;5;132;01m{\u001b[39;00mfile\u001b[38;5;132;01m}\u001b[39;00m\u001b[38;5;124m by default \u001b[39m\u001b[38;5;124m\"\u001b[39m\n\u001b[0;32m    278\u001b[0m         \u001b[38;5;124m\"\u001b[39m\u001b[38;5;124mas it is likely to crash IPython. If you know what you are doing, \u001b[39m\u001b[38;5;124m\"\u001b[39m\n\u001b[0;32m    279\u001b[0m         \u001b[38;5;124m\"\u001b[39m\u001b[38;5;124myou can use builtins\u001b[39m\u001b[38;5;124m'\u001b[39m\u001b[38;5;124m open.\u001b[39m\u001b[38;5;124m\"\u001b[39m\n\u001b[0;32m    280\u001b[0m     )\n\u001b[1;32m--> 282\u001b[0m \u001b[38;5;28;01mreturn\u001b[39;00m io_open(file, \u001b[38;5;241m*\u001b[39margs, \u001b[38;5;241m*\u001b[39m\u001b[38;5;241m*\u001b[39mkwargs)\n",
      "\u001b[1;31mFileNotFoundError\u001b[0m: [Errno 2] No such file or directory: './sample/labeled_data/1_문항정오답표_rule_20210210163612.json'"
     ]
    }
   ],
   "source": [
    "# 문항정오답표\n",
    "with open(file_ox, 'r') as f:\n",
    "    json_data = json.load(f)\n",
    "    print(json.dumps(json_data, indent = 4))"
   ]
  },
  {
   "cell_type": "code",
   "execution_count": null,
   "id": "61a4bd7a",
   "metadata": {},
   "outputs": [],
   "source": [
    "'''\n",
    "{\n",
    "\t\"learnerID\" : \"2\", ----------------------------------> 학습자 ID\n",
    "\t\"learnerProfile\" : \"M, elementary, 1\", --------------> 학습자 정보 : 성별, 학교급, 학년\n",
    "\t\"testID\" : \"0101\",                     --------------> 평가 ID\n",
    "\t\"assessmentItemID\" : \"202045\",         --------------> 평가 문항 ID\n",
    "\t\"answerCode\" : \"0\",                    --------------> 정답 1 오답 0\n",
    "\t\"timeStamp\" : \"2020-11-16 18:14:41.976979\"-----------> 데이터 생성,수정 시간\n",
    "}\n",
    "'''"
   ]
  },
  {
   "cell_type": "markdown",
   "id": "c388d783",
   "metadata": {},
   "source": [
    "### 문항IRT"
   ]
  },
  {
   "cell_type": "code",
   "execution_count": null,
   "id": "84051fce",
   "metadata": {},
   "outputs": [],
   "source": [
    "# 문항IRT\n",
    "with open(file_itemIRT, 'r') as f:\n",
    "    json_data = json.load(f)\n",
    "    print(json.dumps(json_data, indent = 4))"
   ]
  },
  {
   "cell_type": "code",
   "execution_count": null,
   "id": "968f4ad6",
   "metadata": {},
   "outputs": [],
   "source": [
    "'''\n",
    "{\n",
    "\t\"testID\" : \"0101\",               --------------> 평가 ID\n",
    "\t\"assessmentItemID\" : \"202045\",   --------------> 평가 문항 ID\n",
    "\t\"difficultyLevel\" : -1.824483892,--------------> 문항 난이도\n",
    "\t\"discriminationLevel\" : 0.974675832,-----------> 문항 변별도\n",
    "\t\"guessLevel\" : \"0.0000112345\",   --------------> 문항 추측도\n",
    "    신뢰도는? reliabilityLevel\n",
    "\t\"timeStamp\" : \"2020-11-16 18:14:41.976979\"-----> 데이터 생성수정 시간\n",
    "\t\"KnowledgeTag\" : \"중등-중1-1학-01-01-02\"-------> 개념적 지식 태그\n",
    "}\n",
    "'''"
   ]
  },
  {
   "cell_type": "markdown",
   "id": "4419f79e",
   "metadata": {},
   "source": [
    "### 응시자IRT"
   ]
  },
  {
   "cell_type": "code",
   "execution_count": null,
   "id": "fde40843",
   "metadata": {},
   "outputs": [],
   "source": [
    "# 응시자IRT\n",
    "with open(file_itemIRT, 'r') as f:\n",
    "    json_data = json.load(f)\n",
    "    print(json.dumps(json_data, indent = 4))"
   ]
  },
  {
   "cell_type": "code",
   "execution_count": null,
   "id": "c061280f",
   "metadata": {},
   "outputs": [],
   "source": [
    "'''\n",
    "{\n",
    "\t\"learnerID\" : \"2\",                  ----------> 학습자 ID\n",
    "\t\"learnerProfile\" : \"M, elementary, 1\",--------> 학습자 정보 : 성별, 학교급, 학년\n",
    "\t\"testID\" : \"0101\",                  ----------> 평가 ID\n",
    "\t\"theta\" : -3.824483892,             ----------> 학습자의 이해력 수준\n",
    "\t\"realScore\" : 4.483579245,          ----------> 학습자의 진점수\n",
    "\t\"timeStamp\" : \"2020-11-16 18:14:41.976979\"----> 데이터 갱신 시간\n",
    "}\n",
    "'''"
   ]
  },
  {
   "cell_type": "markdown",
   "id": "3e321452",
   "metadata": {},
   "source": [
    "## 수학 지식 체계 데이터셋"
   ]
  },
  {
   "cell_type": "code",
   "execution_count": null,
   "id": "920600c4",
   "metadata": {},
   "outputs": [],
   "source": [
    "'''\n",
    "\"0\": {\n",
    "     \"fromConcept\": {\n",
    "         \"id\": 3249,\n",
    "         \"name\": \"거듭제곱\",\n",
    "         \"semester\": \"고등-수1-전체\",\n",
    "         \"description\": \"임의의 수 a와 양의 정수 n에 대하여 a를 n개 거듭하여 곱한 것을 a의 n제곱이라 하고 a^n으로 나타낸다. \n",
    "                        또 a,a^2,a^3, ..., a^n, ... 을 통틀어 a의 거듭제곱이라 한다.\",\n",
    "         \"chapter\": {\n",
    "             \"id\": 587,\n",
    "             \"name\": \"지수함수와 로그함수 > 지수 > 거듭제곱과 거듭제곱근\"\n",
    "            },\n",
    "         \"achievement\": {\n",
    "             \"id\": 314,\n",
    "             \"name\": \"거듭제곱과 거듭제곱근의 뜻을 알고, 그 성질을 설명할 수 있다.\"\n",
    "            }\n",
    "},\n",
    "      \"toConcept\": {\n",
    "         \"id\": 1442,\n",
    "         \"name\": \"거듭제곱\",\n",
    "         \"semester\": \"중등-중2-1학기\",\n",
    "         \"description\": \"같은 수나 문자를 거듭하여 곱한 것을 간단히 나타낸 것\",\n",
    "         \"chapter\": {\n",
    "             \"id\": 481,\n",
    "             \"name\": \"식의 계산 > 단항식의 계산 > 지수법칙\"\n",
    "            },\n",
    "         \"achievement\": {\n",
    "             \"id\": 88,\n",
    "             \"name\": \"지수법칙을 이해한다.\"\n",
    "            }\n",
    "    }\n",
    "},\n",
    "'''"
   ]
  },
  {
   "cell_type": "code",
   "execution_count": null,
   "id": "4292a96a",
   "metadata": {},
   "outputs": [],
   "source": []
  },
  {
   "cell_type": "code",
   "execution_count": null,
   "id": "29f3aa53",
   "metadata": {},
   "outputs": [],
   "source": []
  },
  {
   "cell_type": "code",
   "execution_count": null,
   "id": "123b0481",
   "metadata": {},
   "outputs": [],
   "source": []
  },
  {
   "cell_type": "code",
   "execution_count": null,
   "id": "83a022b8",
   "metadata": {},
   "outputs": [],
   "source": []
  }
 ],
 "metadata": {
  "kernelspec": {
   "display_name": "Python 3 (ipykernel)",
   "language": "python",
   "name": "python3"
  },
  "language_info": {
   "codemirror_mode": {
    "name": "ipython",
    "version": 3
   },
   "file_extension": ".py",
   "mimetype": "text/x-python",
   "name": "python",
   "nbconvert_exporter": "python",
   "pygments_lexer": "ipython3",
   "version": "3.10.9"
  }
 },
 "nbformat": 4,
 "nbformat_minor": 5
}
